{
 "cells": [
  {
   "cell_type": "code",
   "execution_count": 8,
   "metadata": {},
   "outputs": [
    {
     "ename": "ModuleNotFoundError",
     "evalue": "No module named 'winrt'",
     "output_type": "error",
     "traceback": [
      "\u001b[1;31m---------------------------------------------------------------------------\u001b[0m",
      "\u001b[1;31mModuleNotFoundError\u001b[0m                       Traceback (most recent call last)",
      "Cell \u001b[1;32mIn[8], line 28\u001b[0m\n\u001b[0;32m     25\u001b[0m         \u001b[38;5;66;03m# 장치 연결 해제\u001b[39;00m\n\u001b[0;32m     26\u001b[0m         \u001b[38;5;28;01mawait\u001b[39;00m client\u001b[38;5;241m.\u001b[39mdisconnect()\n\u001b[1;32m---> 28\u001b[0m \u001b[38;5;28;01mawait\u001b[39;00m run(address)\n\u001b[0;32m     30\u001b[0m \u001b[38;5;28;01masync\u001b[39;00m \u001b[38;5;28;01mdef\u001b[39;00m \u001b[38;5;21mmain\u001b[39m():\n\u001b[0;32m     31\u001b[0m     \u001b[38;5;28;01mawait\u001b[39;00m run(address)\n",
      "Cell \u001b[1;32mIn[8], line 13\u001b[0m, in \u001b[0;36mrun\u001b[1;34m(address)\u001b[0m\n\u001b[0;32m     11\u001b[0m \u001b[38;5;28;01masync\u001b[39;00m \u001b[38;5;28;01mdef\u001b[39;00m \u001b[38;5;21mrun\u001b[39m(address):\n\u001b[0;32m     12\u001b[0m     \u001b[38;5;66;03m# 장치 주소를 이용해 client 클래스 생성\u001b[39;00m\n\u001b[1;32m---> 13\u001b[0m     client \u001b[38;5;241m=\u001b[39m \u001b[43mBleakClient\u001b[49m\u001b[43m(\u001b[49m\u001b[43maddress\u001b[49m\u001b[43m)\u001b[49m\n\u001b[0;32m     14\u001b[0m     \u001b[38;5;28;01mtry\u001b[39;00m:\n\u001b[0;32m     15\u001b[0m         \u001b[38;5;66;03m# 장치 연결 해제 콜백 함수 등록\u001b[39;00m\n\u001b[0;32m     16\u001b[0m         client\u001b[38;5;241m.\u001b[39mset_disconnected_callback(on_disconnect)\n",
      "File \u001b[1;32mc:\\Users\\won\\anaconda3\\envs\\ble\\Lib\\site-packages\\bleak\\__init__.py:521\u001b[0m, in \u001b[0;36mBleakClient.__init__\u001b[1;34m(self, address_or_ble_device, disconnected_callback, services, timeout, winrt, backend, **kwargs)\u001b[0m\n\u001b[0;32m    509\u001b[0m \u001b[38;5;28;01mdef\u001b[39;00m \u001b[38;5;21m__init__\u001b[39m(\n\u001b[0;32m    510\u001b[0m     \u001b[38;5;28mself\u001b[39m,\n\u001b[0;32m    511\u001b[0m     address_or_ble_device: Union[BLEDevice, \u001b[38;5;28mstr\u001b[39m],\n\u001b[1;32m   (...)\u001b[0m\n\u001b[0;32m    518\u001b[0m     \u001b[38;5;241m*\u001b[39m\u001b[38;5;241m*\u001b[39mkwargs,\n\u001b[0;32m    519\u001b[0m ) \u001b[38;5;241m-\u001b[39m\u001b[38;5;241m>\u001b[39m \u001b[38;5;28;01mNone\u001b[39;00m:\n\u001b[0;32m    520\u001b[0m     PlatformBleakClient \u001b[38;5;241m=\u001b[39m (\n\u001b[1;32m--> 521\u001b[0m         \u001b[43mget_platform_client_backend_type\u001b[49m\u001b[43m(\u001b[49m\u001b[43m)\u001b[49m \u001b[38;5;28;01mif\u001b[39;00m backend \u001b[38;5;129;01mis\u001b[39;00m \u001b[38;5;28;01mNone\u001b[39;00m \u001b[38;5;28;01melse\u001b[39;00m backend\n\u001b[0;32m    522\u001b[0m     )\n\u001b[0;32m    524\u001b[0m     \u001b[38;5;28mself\u001b[39m\u001b[38;5;241m.\u001b[39m_backend \u001b[38;5;241m=\u001b[39m PlatformBleakClient(\n\u001b[0;32m    525\u001b[0m         address_or_ble_device,\n\u001b[0;32m    526\u001b[0m         disconnected_callback\u001b[38;5;241m=\u001b[39m(\n\u001b[1;32m   (...)\u001b[0m\n\u001b[0;32m    536\u001b[0m         \u001b[38;5;241m*\u001b[39m\u001b[38;5;241m*\u001b[39mkwargs,\n\u001b[0;32m    537\u001b[0m     )\n",
      "File \u001b[1;32mc:\\Users\\won\\anaconda3\\envs\\ble\\Lib\\site-packages\\bleak\\backends\\client.py:270\u001b[0m, in \u001b[0;36mget_platform_client_backend_type\u001b[1;34m()\u001b[0m\n\u001b[0;32m    267\u001b[0m     \u001b[38;5;28;01mreturn\u001b[39;00m BleakClientCoreBluetooth\n\u001b[0;32m    269\u001b[0m \u001b[38;5;28;01mif\u001b[39;00m platform\u001b[38;5;241m.\u001b[39msystem() \u001b[38;5;241m==\u001b[39m \u001b[38;5;124m\"\u001b[39m\u001b[38;5;124mWindows\u001b[39m\u001b[38;5;124m\"\u001b[39m:\n\u001b[1;32m--> 270\u001b[0m     \u001b[38;5;28;01mfrom\u001b[39;00m \u001b[38;5;21;01mbleak\u001b[39;00m\u001b[38;5;21;01m.\u001b[39;00m\u001b[38;5;21;01mbackends\u001b[39;00m\u001b[38;5;21;01m.\u001b[39;00m\u001b[38;5;21;01mwinrt\u001b[39;00m\u001b[38;5;21;01m.\u001b[39;00m\u001b[38;5;21;01mclient\u001b[39;00m \u001b[38;5;28;01mimport\u001b[39;00m BleakClientWinRT\n\u001b[0;32m    272\u001b[0m     \u001b[38;5;28;01mreturn\u001b[39;00m BleakClientWinRT\n\u001b[0;32m    274\u001b[0m \u001b[38;5;28;01mraise\u001b[39;00m BleakError(\u001b[38;5;124mf\u001b[39m\u001b[38;5;124m\"\u001b[39m\u001b[38;5;124mUnsupported platform: \u001b[39m\u001b[38;5;132;01m{\u001b[39;00mplatform\u001b[38;5;241m.\u001b[39msystem()\u001b[38;5;132;01m}\u001b[39;00m\u001b[38;5;124m\"\u001b[39m)\n",
      "File \u001b[1;32mc:\\Users\\won\\anaconda3\\envs\\ble\\Lib\\site-packages\\bleak\\backends\\winrt\\client.py:39\u001b[0m\n\u001b[0;32m     36\u001b[0m     \u001b[38;5;28;01mfrom\u001b[39;00m \u001b[38;5;21;01masyncio\u001b[39;00m \u001b[38;5;28;01mimport\u001b[39;00m timeout \u001b[38;5;28;01mas\u001b[39;00m async_timeout\n\u001b[0;32m     38\u001b[0m \u001b[38;5;28;01mif\u001b[39;00m sys\u001b[38;5;241m.\u001b[39mversion_info \u001b[38;5;241m>\u001b[39m\u001b[38;5;241m=\u001b[39m (\u001b[38;5;241m3\u001b[39m, \u001b[38;5;241m12\u001b[39m):\n\u001b[1;32m---> 39\u001b[0m     \u001b[38;5;28;01mfrom\u001b[39;00m \u001b[38;5;21;01mwinrt\u001b[39;00m\u001b[38;5;21;01m.\u001b[39;00m\u001b[38;5;21;01mwindows\u001b[39;00m\u001b[38;5;21;01m.\u001b[39;00m\u001b[38;5;21;01mdevices\u001b[39;00m\u001b[38;5;21;01m.\u001b[39;00m\u001b[38;5;21;01mbluetooth\u001b[39;00m \u001b[38;5;28;01mimport\u001b[39;00m (\n\u001b[0;32m     40\u001b[0m         BluetoothAddressType,\n\u001b[0;32m     41\u001b[0m         BluetoothCacheMode,\n\u001b[0;32m     42\u001b[0m         BluetoothError,\n\u001b[0;32m     43\u001b[0m         BluetoothLEDevice,\n\u001b[0;32m     44\u001b[0m     )\n\u001b[0;32m     45\u001b[0m     \u001b[38;5;28;01mfrom\u001b[39;00m \u001b[38;5;21;01mwinrt\u001b[39;00m\u001b[38;5;21;01m.\u001b[39;00m\u001b[38;5;21;01mwindows\u001b[39;00m\u001b[38;5;21;01m.\u001b[39;00m\u001b[38;5;21;01mdevices\u001b[39;00m\u001b[38;5;21;01m.\u001b[39;00m\u001b[38;5;21;01mbluetooth\u001b[39;00m\u001b[38;5;21;01m.\u001b[39;00m\u001b[38;5;21;01mgenericattributeprofile\u001b[39;00m \u001b[38;5;28;01mimport\u001b[39;00m (\n\u001b[0;32m     46\u001b[0m         GattCharacteristic,\n\u001b[0;32m     47\u001b[0m         GattCharacteristicProperties,\n\u001b[1;32m   (...)\u001b[0m\n\u001b[0;32m     56\u001b[0m         GattWriteOption,\n\u001b[0;32m     57\u001b[0m     )\n\u001b[0;32m     58\u001b[0m     \u001b[38;5;28;01mfrom\u001b[39;00m \u001b[38;5;21;01mwinrt\u001b[39;00m\u001b[38;5;21;01m.\u001b[39;00m\u001b[38;5;21;01mwindows\u001b[39;00m\u001b[38;5;21;01m.\u001b[39;00m\u001b[38;5;21;01mdevices\u001b[39;00m\u001b[38;5;21;01m.\u001b[39;00m\u001b[38;5;21;01menumeration\u001b[39;00m \u001b[38;5;28;01mimport\u001b[39;00m (\n\u001b[0;32m     59\u001b[0m         DeviceInformation,\n\u001b[0;32m     60\u001b[0m         DevicePairingKinds,\n\u001b[0;32m     61\u001b[0m         DevicePairingResultStatus,\n\u001b[0;32m     62\u001b[0m         DeviceUnpairingResultStatus,\n\u001b[0;32m     63\u001b[0m     )\n",
      "\u001b[1;31mModuleNotFoundError\u001b[0m: No module named 'winrt'"
     ]
    }
   ],
   "source": [
    "import asyncio\n",
    "from bleak import BleakClient\n",
    "\n",
    "# 위에서 얻은 BLE 장치의 주소\n",
    "address = \"48:27:E2:FC:9A:ED\"\n",
    "\n",
    "# 장치와 연결해제시 발생하는 콜백 이벤트\n",
    "def on_disconnect(client):\n",
    "    print(\"Client with address {} got disconnected!\".format(client.address))\n",
    "\n",
    "async def run(address):\n",
    "    # 장치 주소를 이용해 client 클래스 생성\n",
    "    client = BleakClient(address)\n",
    "    try:\n",
    "        # 장치 연결 해제 콜백 함수 등록\n",
    "        client.set_disconnected_callback(on_disconnect)\n",
    "        # 장치 연결 시작\n",
    "        await client.connect()\n",
    "        print('connected')    \n",
    "    except Exception as e:\n",
    "        # 연결 실패시 발생\n",
    "        print('error: ', e, end='')        \n",
    "    finally:\n",
    "        print('start disconnect')\n",
    "        # 장치 연결 해제\n",
    "        await client.disconnect()\n",
    "\n",
    "await run(address)\n",
    "\n",
    "async def main():\n",
    "    await run(address)\n",
    "\n",
    "await main()\n",
    "print('done')"
   ]
  }
 ],
 "metadata": {
  "kernelspec": {
   "display_name": "ble",
   "language": "python",
   "name": "python3"
  },
  "language_info": {
   "codemirror_mode": {
    "name": "ipython",
    "version": 3
   },
   "file_extension": ".py",
   "mimetype": "text/x-python",
   "name": "python",
   "nbconvert_exporter": "python",
   "pygments_lexer": "ipython3",
   "version": "3.12.7"
  }
 },
 "nbformat": 4,
 "nbformat_minor": 2
}
